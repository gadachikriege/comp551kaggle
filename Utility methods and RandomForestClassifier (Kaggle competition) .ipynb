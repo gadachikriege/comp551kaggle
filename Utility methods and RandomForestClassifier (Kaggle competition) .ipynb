{
 "cells": [
  {
   "cell_type": "code",
   "execution_count": 1,
   "metadata": {
    "collapsed": false
   },
   "outputs": [],
   "source": [
    "import numpy as np\n",
    "import pandas as pd\n",
    "import random\n",
    "import math\n",
    "from sklearn.ensemble import RandomForestClassifier\n",
    "from sklearn.metrics import f1_score"
   ]
  },
  {
   "cell_type": "code",
   "execution_count": 2,
   "metadata": {
    "collapsed": false
   },
   "outputs": [],
   "source": [
    "def load_numpy_data(file_path):\n",
    "    data = np.load(file_path, encoding='latin1')\n",
    "    np_data = data[:,1:]\n",
    "    df = pd.DataFrame(np_data)\n",
    "    return pd.DataFrame(df)\n",
    "\n",
    "def load_csv_data(file_path):\n",
    "    csv_data = pd.read_csv(file_path)\n",
    "    return csv_data\n",
    "\n",
    "def format_images(image_data):\n",
    "    num_cols_img = image_data[0,0].shape[0]\n",
    "    num_rows_data = image_data.shape[0]\n",
    "    result = np.zeros((num_rows_data, num_cols_img))\n",
    "    for i in range(num_rows_data):\n",
    "        for j in range(num_cols_img):\n",
    "            result[i,j] = image_data[i,0][j]\n",
    "    return pd.DataFrame(result)\n",
    "\n",
    "def create_class_num_maps(categories):\n",
    "    num_dict = {} # key : int, value : String\n",
    "    class_dict = {} # key : String, value : int\n",
    "    for i, cl in enumerate(categories):\n",
    "        num_dict[i] = cl\n",
    "        class_dict[cl] = i\n",
    "    return num_dict, class_dict\n",
    "\n",
    "def convert_y_to_num(y, class_dict):\n",
    "    y_num = np.zeros(y.shape[0])\n",
    "    for i, cl in enumerate(y):\n",
    "        y_num[i] = class_dict[cl]\n",
    "    return pd.DataFrame(y_num)\n",
    "\n",
    "# makes random splits in dataset, labels for train and valid sets\n",
    "# Example: X_train, y_train, X_valid, y_valid = train_valid_split(train_images.values, train_labels.values, 0.8, 0.2)\n",
    "def train_valid_split(dataset, labels, train_split, valid_split):\n",
    "    if (train_split + valid_split) != 1:\n",
    "        raise ValueError(\"invalid size for train_split, valid_split\")\n",
    "    num_rows = dataset.shape[0]\n",
    "    num_cols = dataset.shape[1]\n",
    "    train = list()\n",
    "    valid = list()\n",
    "    dataset_copy = list(dataset)\n",
    "    \n",
    "    y_train = list()\n",
    "    y_valid = list()\n",
    "    labels_copy = list(labels)\n",
    "    \n",
    "    train_size = train_split*num_rows\n",
    "    valid_size = valid_split*num_rows\n",
    "    \n",
    "    while len(train) < train_size:\n",
    "        index = random.randrange(len(dataset_copy))\n",
    "        train.append(dataset_copy.pop(index))\n",
    "        y_train.append(labels_copy.pop(index))\n",
    "    \n",
    "    while len(valid) < valid_size:\n",
    "        index = random.randrange(len(dataset_copy))\n",
    "        valid.append(dataset_copy.pop(index))\n",
    "        y_valid.append(labels_copy.pop(index))\n",
    "        \n",
    "    return pd.DataFrame(np.array(train)), pd.DataFrame(np.array(y_train)),pd.DataFrame(np.array(valid)),pd.DataFrame(np.array(y_valid))\n",
    "     \n",
    "    "
   ]
  },
  {
   "cell_type": "code",
   "execution_count": 3,
   "metadata": {
    "collapsed": false
   },
   "outputs": [],
   "source": [
    "train_images_RAW = load_numpy_data('all/train_images.npy')\n",
    "train_labels_RAW = load_csv_data('all/train_labels.csv')\n",
    "\n",
    "test_images_RAW = load_numpy_data('all/test_images.npy')\n",
    "sample_submission = load_csv_data('all/sample_submission.csv')"
   ]
  },
  {
   "cell_type": "code",
   "execution_count": 4,
   "metadata": {
    "collapsed": false
   },
   "outputs": [],
   "source": [
    "# train_images is final training set\n",
    "train_images = format_images(train_images_RAW.values)\n",
    "train_labels_txt = train_labels_RAW['Category']\n",
    "\n",
    "# test_images is final testing set\n",
    "test_images = format_images(test_images_RAW.values)"
   ]
  },
  {
   "cell_type": "code",
   "execution_count": 5,
   "metadata": {
    "collapsed": false
   },
   "outputs": [],
   "source": [
    "all_classes = ['sink', 'pear','moustache','nose','skateboard', 'penguin','peanut','skull','panda','paintbrush',\n",
    "'nail','apple','rifle','mug', 'sailboat','pineapple','spoon','rabbit','shovel','rollerskates','screwdriver','scorpion',\n",
    "'rhinoceros','pool','octagon','pillow','parrot','squiggle','mouth','empty','pencil']\n",
    "\n",
    "'''\n",
    "num_dict :\n",
    "        key:int\n",
    "        value:String\n",
    "        \n",
    "class_dict :\n",
    "        key:String\n",
    "        value:int\n",
    "'''\n",
    "num_dict, class_dict = create_class_num_maps(all_classes)\n",
    "\n",
    "# train_labels is number representation of train categories\n",
    "train_labels = convert_y_to_num(train_labels_txt.values, class_dict)"
   ]
  },
  {
   "cell_type": "code",
   "execution_count": 6,
   "metadata": {
    "collapsed": false
   },
   "outputs": [],
   "source": [
    "X_train, y_train, X_valid, y_valid = train_valid_split(train_images.values, train_labels.values, 0.8, 0.2)"
   ]
  },
  {
   "cell_type": "code",
   "execution_count": 7,
   "metadata": {
    "collapsed": false
   },
   "outputs": [
    {
     "name": "stdout",
     "output_type": "stream",
     "text": [
      "RandomForestClassifier:\n",
      "\tf1_score (y_valid): 0.048\n"
     ]
    }
   ],
   "source": [
    "clf = RandomForestClassifier(n_estimators=100, max_depth=100, random_state=0)\n",
    "clf.fit(X_train.values, y_train.values.ravel())\n",
    "y_valid_pred = clf.predict(X_valid.values)\n",
    "score = f1_score(y_valid, y_valid_pred, average = 'micro')\n",
    "print('RandomForestClassifier:\\n\\tf1_score (y_valid): ' + str(score))"
   ]
  }
 ],
 "metadata": {
  "kernelspec": {
   "display_name": "Python 3",
   "language": "python",
   "name": "python3"
  },
  "language_info": {
   "codemirror_mode": {
    "name": "ipython",
    "version": 3
   },
   "file_extension": ".py",
   "mimetype": "text/x-python",
   "name": "python",
   "nbconvert_exporter": "python",
   "pygments_lexer": "ipython3",
   "version": "3.5.4"
  }
 },
 "nbformat": 4,
 "nbformat_minor": 0
}
